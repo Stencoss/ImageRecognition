{
  "nbformat": 4,
  "nbformat_minor": 0,
  "metadata": {
    "colab": {
      "name": "Untitled1.ipynb",
      "provenance": [],
      "authorship_tag": "ABX9TyOJYCAjyiPNuMgU+kX5oAiT"
    },
    "kernelspec": {
      "name": "python3",
      "display_name": "Python 3"
    },
    "language_info": {
      "name": "python"
    }
  },
  "cells": [
    {
      "cell_type": "code",
      "source": [
        "from google.colab import drive\n",
        "drive.mount('/content/drive')"
      ],
      "metadata": {
        "colab": {
          "base_uri": "https://localhost:8080/"
        },
        "id": "GgcSMM0aGsrg",
        "outputId": "1c10ee69-083d-4e99-db08-6696416d6420"
      },
      "execution_count": 1,
      "outputs": [
        {
          "output_type": "stream",
          "name": "stdout",
          "text": [
            "Mounted at /content/drive\n"
          ]
        }
      ]
    },
    {
      "cell_type": "code",
      "source": [
        "# Fundamental classes\n",
        "import numpy as np \n",
        "import pandas as pd \n",
        "import tensorflow as tf\n",
        "import os\n",
        "\n",
        "# Image related\n",
        "import cv2\n",
        "from PIL import Image\n",
        "\n",
        "# For ploting\n",
        "import matplotlib.pyplot as plt\n",
        "\n",
        "# For the model and it's training\n",
        "from sklearn.model_selection import train_test_split\n",
        "from tensorflow.keras.utils import to_categorical\n",
        "from tensorflow.keras.models import Sequential, load_model\n",
        "from tensorflow.keras.layers import Conv2D, MaxPool2D, Dense, Flatten, Dropout"
      ],
      "metadata": {
        "id": "yK1-ym9yshGn"
      },
      "execution_count": 6,
      "outputs": []
    },
    {
      "cell_type": "code",
      "source": [
        "# Setting variables for later use\n",
        "data = []\n",
        "labels = []\n",
        "classes = 43\n",
        "cur_path = os.getcwd()\n",
        "\n",
        "# Retrieving the images and their labels \n",
        "for i in range(classes):\n",
        "    path = os.path.join('/content/drive/MyDrive/Datasets/','Train',str(i))\n",
        "    images = os.listdir(path)\n",
        "\n",
        "    for a in images:\n",
        "        try:\n",
        "            image = Image.open(path + '/'+ a)\n",
        "            image = image.resize((30,30))\n",
        "            image = np.array(image)\n",
        "            #sim = Image.fromarray(image)\n",
        "            data.append(image)\n",
        "            labels.append(i)\n",
        "        except:\n",
        "            print(\"Error loading image\")\n",
        "\n",
        "# Converting lists into numpy arrays\n",
        "data = np.array(data)\n",
        "labels = np.array(labels)"
      ],
      "metadata": {
        "id": "eVc1rqa73Xya"
      },
      "execution_count": 9,
      "outputs": []
    },
    {
      "cell_type": "code",
      "source": [
        "# Checking data shape\n",
        "print(data.shape, labels.shape)\n",
        "\n",
        "# Splitting training and testing dataset\n",
        "X_train, X_test, y_train, y_test = train_test_split(data, labels, test_size=0.2, random_state=42)\n",
        "\n",
        "# Displaying the shape after the split\n",
        "print(X_train.shape, X_test.shape, y_train.shape, y_test.shape)\n",
        "\n",
        "# Converting the labels into one hot encoding\n",
        "y_train = to_categorical(y_train, 43)\n",
        "y_test = to_categorical(y_test, 43)"
      ],
      "metadata": {
        "colab": {
          "base_uri": "https://localhost:8080/"
        },
        "id": "77LRsyuD9pHI",
        "outputId": "98fdbab4-6404-4fb1-bfde-e07343763407"
      },
      "execution_count": 10,
      "outputs": [
        {
          "output_type": "stream",
          "name": "stdout",
          "text": [
            "(10796, 30, 30, 3) (10796,)\n",
            "(8636, 30, 30, 3) (2160, 30, 30, 3) (8636,) (2160,)\n"
          ]
        }
      ]
    },
    {
      "cell_type": "code",
      "source": [
        "# Building the model\n",
        "model = Sequential()\n",
        "model.add(Conv2D(filters=32, kernel_size=(5,5), activation='relu', input_shape=X_train.shape[1:]))\n",
        "model.add(Conv2D(filters=32, kernel_size=(5,5), activation='relu'))\n",
        "model.add(MaxPool2D(pool_size=(2, 2)))\n",
        "model.add(Dropout(rate=0.25))\n",
        "model.add(Conv2D(filters=64, kernel_size=(3, 3), activation='relu'))\n",
        "model.add(Conv2D(filters=64, kernel_size=(3, 3), activation='relu'))\n",
        "model.add(MaxPool2D(pool_size=(2, 2)))\n",
        "model.add(Dropout(rate=0.25))\n",
        "model.add(Flatten())\n",
        "model.add(Dense(256, activation='relu'))\n",
        "model.add(Dropout(rate=0.5))\n",
        "model.add(Dense(43, activation='softmax'))\n",
        "\n",
        "# Compilation of the model\n",
        "model.compile(loss='categorical_crossentropy', optimizer='adam', metrics=['accuracy'])\n",
        "\n",
        "#Model display\n",
        "model.summary()"
      ],
      "metadata": {
        "colab": {
          "base_uri": "https://localhost:8080/"
        },
        "id": "FKqMUh2a9spR",
        "outputId": "95db77dd-801c-4f2c-be5d-bbb2f4cdd07b"
      },
      "execution_count": 11,
      "outputs": [
        {
          "output_type": "stream",
          "name": "stdout",
          "text": [
            "Model: \"sequential\"\n",
            "_________________________________________________________________\n",
            " Layer (type)                Output Shape              Param #   \n",
            "=================================================================\n",
            " conv2d (Conv2D)             (None, 26, 26, 32)        2432      \n",
            "                                                                 \n",
            " conv2d_1 (Conv2D)           (None, 22, 22, 32)        25632     \n",
            "                                                                 \n",
            " max_pooling2d (MaxPooling2D  (None, 11, 11, 32)       0         \n",
            " )                                                               \n",
            "                                                                 \n",
            " dropout (Dropout)           (None, 11, 11, 32)        0         \n",
            "                                                                 \n",
            " conv2d_2 (Conv2D)           (None, 9, 9, 64)          18496     \n",
            "                                                                 \n",
            " conv2d_3 (Conv2D)           (None, 7, 7, 64)          36928     \n",
            "                                                                 \n",
            " max_pooling2d_1 (MaxPooling  (None, 3, 3, 64)         0         \n",
            " 2D)                                                             \n",
            "                                                                 \n",
            " dropout_1 (Dropout)         (None, 3, 3, 64)          0         \n",
            "                                                                 \n",
            " flatten (Flatten)           (None, 576)               0         \n",
            "                                                                 \n",
            " dense (Dense)               (None, 256)               147712    \n",
            "                                                                 \n",
            " dropout_2 (Dropout)         (None, 256)               0         \n",
            "                                                                 \n",
            " dense_1 (Dense)             (None, 43)                11051     \n",
            "                                                                 \n",
            "=================================================================\n",
            "Total params: 242,251\n",
            "Trainable params: 242,251\n",
            "Non-trainable params: 0\n",
            "_________________________________________________________________\n"
          ]
        }
      ]
    },
    {
      "cell_type": "code",
      "source": [
        "# Training the Model\n",
        "with tf.device('/GPU:0'):\n",
        "    epochs = 15\n",
        "    history = model.fit(X_train, y_train, batch_size=32, epochs=epochs, validation_data=(X_test, y_test))"
      ],
      "metadata": {
        "colab": {
          "base_uri": "https://localhost:8080/"
        },
        "id": "U0Ko7hZS9v4h",
        "outputId": "bde41792-c1ae-4e61-aa2d-2e1da8972224"
      },
      "execution_count": 12,
      "outputs": [
        {
          "output_type": "stream",
          "name": "stdout",
          "text": [
            "Epoch 1/15\n",
            "270/270 [==============================] - 39s 142ms/step - loss: 1.0621 - accuracy: 0.7495 - val_loss: 0.1666 - val_accuracy: 0.9574\n",
            "Epoch 2/15\n",
            "270/270 [==============================] - 37s 137ms/step - loss: 0.2966 - accuracy: 0.9189 - val_loss: 0.1345 - val_accuracy: 0.9713\n",
            "Epoch 3/15\n",
            "270/270 [==============================] - 39s 146ms/step - loss: 0.2156 - accuracy: 0.9428 - val_loss: 0.1095 - val_accuracy: 0.9755\n",
            "Epoch 4/15\n",
            "270/270 [==============================] - 37s 139ms/step - loss: 0.1553 - accuracy: 0.9588 - val_loss: 0.0609 - val_accuracy: 0.9847\n",
            "Epoch 5/15\n",
            "270/270 [==============================] - 46s 171ms/step - loss: 0.1534 - accuracy: 0.9561 - val_loss: 0.0891 - val_accuracy: 0.9778\n",
            "Epoch 6/15\n",
            "270/270 [==============================] - 40s 147ms/step - loss: 0.1354 - accuracy: 0.9601 - val_loss: 0.0623 - val_accuracy: 0.9852\n",
            "Epoch 7/15\n",
            "270/270 [==============================] - 39s 142ms/step - loss: 0.1238 - accuracy: 0.9648 - val_loss: 0.0285 - val_accuracy: 0.9917\n",
            "Epoch 8/15\n",
            "270/270 [==============================] - 38s 142ms/step - loss: 0.1070 - accuracy: 0.9708 - val_loss: 0.0323 - val_accuracy: 0.9931\n",
            "Epoch 9/15\n",
            "270/270 [==============================] - 40s 148ms/step - loss: 0.1207 - accuracy: 0.9653 - val_loss: 0.0653 - val_accuracy: 0.9759\n",
            "Epoch 10/15\n",
            "270/270 [==============================] - 44s 164ms/step - loss: 0.1433 - accuracy: 0.9627 - val_loss: 0.0466 - val_accuracy: 0.9838\n",
            "Epoch 11/15\n",
            "270/270 [==============================] - 38s 142ms/step - loss: 0.0926 - accuracy: 0.9727 - val_loss: 0.0247 - val_accuracy: 0.9940\n",
            "Epoch 12/15\n",
            "270/270 [==============================] - 39s 145ms/step - loss: 0.0934 - accuracy: 0.9738 - val_loss: 0.0394 - val_accuracy: 0.9898\n",
            "Epoch 13/15\n",
            "270/270 [==============================] - 39s 144ms/step - loss: 0.0964 - accuracy: 0.9741 - val_loss: 0.0258 - val_accuracy: 0.9921\n",
            "Epoch 14/15\n",
            "270/270 [==============================] - 37s 139ms/step - loss: 0.1101 - accuracy: 0.9687 - val_loss: 0.0366 - val_accuracy: 0.9866\n",
            "Epoch 15/15\n",
            "270/270 [==============================] - 40s 148ms/step - loss: 0.0984 - accuracy: 0.9712 - val_loss: 0.0318 - val_accuracy: 0.9898\n"
          ]
        }
      ]
    },
    {
      "cell_type": "code",
      "source": [
        "# Plotting performance graphs\n",
        "plt.figure(0)\n",
        "plt.plot(history.history['accuracy'], label='training accuracy')\n",
        "plt.plot(history.history['val_accuracy'], label='val accuracy')\n",
        "plt.title('Accuracy')\n",
        "plt.xlabel('epochs')\n",
        "plt.ylabel('accuracy')\n",
        "plt.legend()\n",
        "plt.show()\n",
        "\n",
        "plt.figure(1)\n",
        "plt.plot(history.history['loss'], label='training loss')\n",
        "plt.plot(history.history['val_loss'], label='val loss')\n",
        "plt.title('Loss')\n",
        "plt.xlabel('epochs')\n",
        "plt.ylabel('loss')\n",
        "plt.legend()\n",
        "plt.show()"
      ],
      "metadata": {
        "colab": {
          "base_uri": "https://localhost:8080/",
          "height": 573
        },
        "id": "hPcMHatx9yW2",
        "outputId": "df463d39-5cb6-424e-b361-5181d4fd58c6"
      },
      "execution_count": 13,
      "outputs": [
        {
          "output_type": "display_data",
          "data": {
            "text/plain": [
              "<Figure size 432x288 with 1 Axes>"
            ],
            "image/png": "[encoded data removed]"
          },
          "metadata": {
            "needs_background": "light"
          }
        },
        {
          "output_type": "display_data",
          "data": {
            "text/plain": [
              "<Figure size 432x288 with 1 Axes>"
            ],
            "image/png": "[encoded data removed]"
          },
          "metadata": {
            "needs_background": "light"
          }
        }
      ]
    },
    {
      "cell_type": "code",
      "source": [
        "# testing accuracy on test dataset\n",
        "from sklearn.metrics import accuracy_score\n",
        "\n",
        "# Importing the test dataset\n",
        "y_test = pd.read_csv('/content/drive/MyDrive/Datasets/Test.csv')\n",
        "\n",
        "labels = y_test[\"ClassId\"].values\n",
        "imgs = y_test[\"Path\"].values\n",
        "\n",
        "data=[]\n",
        "\n",
        "# Retreiving the images\n",
        "with tf.device('/GPU:0'):\n",
        "    for img in imgs:\n",
        "        image = Image.open('/content/drive/MyDrive/Datasets/'+img)\n",
        "        image = image.resize([30, 30])\n",
        "        data.append(np.array(image))\n",
        "\n",
        "X_test=np.array(data)\n",
        "\n",
        "with tf.device('/GPU:0'):\n",
        "    pred = np.argmax(model.predict(X_test), axis=-1)\n",
        "\n",
        "#Accuracy with the test data\n",
        "from sklearn.metrics import accuracy_score\n",
        "print(accuracy_score(labels, pred))\n"
      ],
      "metadata": {
        "colab": {
          "base_uri": "https://localhost:8080/"
        },
        "id": "7X8d6BIe941X",
        "outputId": "bf80d85f-0b2e-4ddf-bd1b-91086fc77d0e"
      },
      "execution_count": 15,
      "outputs": [
        {
          "output_type": "stream",
          "name": "stdout",
          "text": [
            "0.26991290577988913\n"
          ]
        }
      ]
    },
    {
      "cell_type": "code",
      "source": [
        "# Saving the Model \n",
        "model.save('traffic_classifier.h5')"
      ],
      "metadata": {
        "id": "ivDxvvGY950z"
      },
      "execution_count": 16,
      "outputs": []
    }
  ]
}